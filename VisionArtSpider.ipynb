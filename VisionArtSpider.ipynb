{
 "cells": [
  {
   "cell_type": "markdown",
   "metadata": {},
   "source": [
    "Vision Artificial"
   ]
  },
  {
   "cell_type": "markdown",
   "metadata": {},
   "source": [
    "Instalamos OpenCV"
   ]
  },
  {
   "cell_type": "code",
   "execution_count": 54,
   "metadata": {},
   "outputs": [],
   "source": [
    "#pip install opencv-python"
   ]
  },
  {
   "cell_type": "code",
   "execution_count": 55,
   "metadata": {},
   "outputs": [],
   "source": [
    "#pip install azure-cognitiveservices-vision-customvision"
   ]
  },
  {
   "cell_type": "markdown",
   "metadata": {},
   "source": [
    "Accediendo a camara"
   ]
  },
  {
   "cell_type": "code",
   "execution_count": 56,
   "metadata": {},
   "outputs": [
    {
     "name": "stdout",
     "output_type": "stream",
     "text": [
      "Foto tomada correctamente\n"
     ]
    }
   ],
   "source": [
    "import cv2\n",
    "cap = cv2.VideoCapture(0)\n",
    "leido, frame = cap.read()\n",
    "\n",
    "if leido == True:\n",
    "\tcv2.imwrite(\"test.jpeg\", frame)\n",
    "\tprint(\"Foto tomada correctamente\")\n",
    "else:\n",
    "\tprint(\"Error al acceder a la cámara\")\n",
    "\n",
    "\n",
    "cap.release()"
   ]
  },
  {
   "cell_type": "code",
   "execution_count": 57,
   "metadata": {},
   "outputs": [
    {
     "name": "stdout",
     "output_type": "stream",
     "text": [
      "{'probability': 0.9796505, 'tagId': 'bc1f81a1-519f-48f9-8f59-77077a36a47e', 'tagName': 'Derecha', 'boundingBox': {'left': 0.02652891, 'top': 0.65309435, 'width': 0.5832892, 'height': 0.31122124}}\n",
      "{'probability': 0.6340818, 'tagId': 'bc1f81a1-519f-48f9-8f59-77077a36a47e', 'tagName': 'Derecha', 'boundingBox': {'left': 0.062382247, 'top': 0.56551886, 'width': 0.41977686, 'height': 0.43448114}}\n",
      "{'probability': 0.54687476, 'tagId': 'bc1f81a1-519f-48f9-8f59-77077a36a47e', 'tagName': 'Derecha', 'boundingBox': {'left': 0.35171238, 'top': 0.6019048, 'width': 0.2166461, 'height': 0.36510837}}\n",
      "{'probability': 0.18688911, 'tagId': 'bc1f81a1-519f-48f9-8f59-77077a36a47e', 'tagName': 'Derecha', 'boundingBox': {'left': 0.047917992, 'top': 0.0042723333, 'width': 0.5427768, 'height': 0.21226692}}\n",
      "{'probability': 0.10380078, 'tagId': 'bc1f81a1-519f-48f9-8f59-77077a36a47e', 'tagName': 'Derecha', 'boundingBox': {'left': 0.0, 'top': 0.8944844, 'width': 0.36583507, 'height': 0.1035822}}\n",
      "{'probability': 0.09793084, 'tagId': 'bc1f81a1-519f-48f9-8f59-77077a36a47e', 'tagName': 'Derecha', 'boundingBox': {'left': 0.024159657, 'top': 0.8081976, 'width': 0.46509153, 'height': 0.15348911}}\n",
      "{'probability': 0.09291359, 'tagId': 'bc1f81a1-519f-48f9-8f59-77077a36a47e', 'tagName': 'Derecha', 'boundingBox': {'left': 0.9047837, 'top': 0.013703381, 'width': 0.08562511, 'height': 0.16997145}}\n",
      "{'probability': 0.036443923, 'tagId': 'bc1f81a1-519f-48f9-8f59-77077a36a47e', 'tagName': 'Derecha', 'boundingBox': {'left': 0.7435033, 'top': 0.9494287, 'width': 0.25649673, 'height': 0.050571322}}\n",
      "{'probability': 0.035701875, 'tagId': 'bc1f81a1-519f-48f9-8f59-77077a36a47e', 'tagName': 'Derecha', 'boundingBox': {'left': 0.0, 'top': 0.86794704, 'width': 0.4363363, 'height': 0.13205296}}\n",
      "{'probability': 0.02053427, 'tagId': 'bc1f81a1-519f-48f9-8f59-77077a36a47e', 'tagName': 'Derecha', 'boundingBox': {'left': 0.0, 'top': 0.7298443, 'width': 0.6761748, 'height': 0.27015573}}\n",
      "{'probability': 0.02022712, 'tagId': 'bc1f81a1-519f-48f9-8f59-77077a36a47e', 'tagName': 'Derecha', 'boundingBox': {'left': 0.06589769, 'top': 0.9209033, 'width': 0.56767845, 'height': 0.079096675}}\n",
      "{'probability': 0.01973488, 'tagId': 'bc1f81a1-519f-48f9-8f59-77077a36a47e', 'tagName': 'Derecha', 'boundingBox': {'left': 0.5767042, 'top': 0.83985525, 'width': 0.36508262, 'height': 0.14010292}}\n",
      "{'probability': 0.015104912, 'tagId': 'bc1f81a1-519f-48f9-8f59-77077a36a47e', 'tagName': 'Derecha', 'boundingBox': {'left': 0.7620254, 'top': 0.014842272, 'width': 0.18017179, 'height': 0.0743416}}\n",
      "{'probability': 0.013750212, 'tagId': 'bc1f81a1-519f-48f9-8f59-77077a36a47e', 'tagName': 'Derecha', 'boundingBox': {'left': 0.5686344, 'top': 0.8385779, 'width': 0.22444391, 'height': 0.16142207}}\n",
      "{'probability': 0.012983691, 'tagId': 'bc1f81a1-519f-48f9-8f59-77077a36a47e', 'tagName': 'Derecha', 'boundingBox': {'left': 0.0, 'top': 0.9328577, 'width': 0.28781947, 'height': 0.06714231}}\n",
      "{'probability': 0.56092036, 'tagId': 'a9c28f7f-d374-44d6-8832-7d1c3c5850e9', 'tagName': 'Izquierda', 'boundingBox': {'left': 0.019231796, 'top': 0.013670785, 'width': 0.5586021, 'height': 0.20279734}}\n",
      "{'probability': 0.07745411, 'tagId': 'a9c28f7f-d374-44d6-8832-7d1c3c5850e9', 'tagName': 'Izquierda', 'boundingBox': {'left': 0.33434248, 'top': 0.5959535, 'width': 0.23883915, 'height': 0.38190395}}\n",
      "{'probability': 0.026787966, 'tagId': 'a9c28f7f-d374-44d6-8832-7d1c3c5850e9', 'tagName': 'Izquierda', 'boundingBox': {'left': 0.73207796, 'top': 0.9501662, 'width': 0.26792204, 'height': 0.049833775}}\n",
      "{'probability': 0.016726563, 'tagId': 'a9c28f7f-d374-44d6-8832-7d1c3c5850e9', 'tagName': 'Izquierda', 'boundingBox': {'left': 0.0, 'top': 0.8734356, 'width': 0.41522297, 'height': 0.12656438}}\n"
     ]
    }
   ],
   "source": [
    "import requests\n",
    "\n",
    "url=\"https://spidervisionss.cognitiveservices.azure.com/customvision/v3.0/Prediction/076afe1f-803a-46b1-9a4e-0ca206c30fc4/detect/iterations/SpiderVision/image\"\n",
    "headers={'content-type':'application/octet-stream','Prediction-Key':'46f6c329a2b447f2881076405b5d27de'}\n",
    "result =requests.post(url,data=open(\"./test.jpeg\",\"rb\"),headers=headers)\n",
    "json_obj = result.json()\n",
    "\n",
    "for prediction in json_obj[\"predictions\"]:\n",
    "    \n",
    "    print (prediction)"
   ]
  }
 ],
 "metadata": {
  "interpreter": {
   "hash": "67363049ed0fe54935ccfca53ee771a13a937a1e089873f36d0eab60ebd6ba0a"
  },
  "kernelspec": {
   "display_name": "Python 3.9.7 64-bit",
   "language": "python",
   "name": "python3"
  },
  "language_info": {
   "codemirror_mode": {
    "name": "ipython",
    "version": 3
   },
   "file_extension": ".py",
   "mimetype": "text/x-python",
   "name": "python",
   "nbconvert_exporter": "python",
   "pygments_lexer": "ipython3",
   "version": "3.9.7"
  },
  "orig_nbformat": 4
 },
 "nbformat": 4,
 "nbformat_minor": 2
}
